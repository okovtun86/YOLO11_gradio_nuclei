{
 "cells": [
  {
   "cell_type": "code",
   "execution_count": null,
   "id": "a90efcc3-b72c-48f3-882f-c744157b8f1e",
   "metadata": {},
   "outputs": [],
   "source": [
    "from ultralytics import YOLO\n",
    "from matplotlib import pyplot as plt\n",
    "from PIL import Image"
   ]
  },
  {
   "cell_type": "code",
   "execution_count": null,
   "id": "e5710d40-ff37-4d28-b1e4-b64d50de886d",
   "metadata": {},
   "outputs": [],
   "source": [
    "#Instance\n",
    "model =  YOLO(\"yolo11n-seg.yaml\")\n",
    "model = YOLO(\"yolo11n-seg.pt\")\n",
    "model =  YOLO(\"yolo11n-seg.yaml\").load(\"yolo11n-seg.pt\")"
   ]
  },
  {
   "cell_type": "code",
   "execution_count": null,
   "id": "fb5f0ca8-bcef-4b91-83ef-7565ecd43616",
   "metadata": {},
   "outputs": [],
   "source": [
    "# define number of classes based on YAML\n",
    "import yaml\n",
    "with open(\"yolo_dataset/data.yaml\", 'r') as stream:\n",
    "    num_classes = str(yaml.safe_load(stream)['nc'])"
   ]
  },
  {
   "cell_type": "code",
   "execution_count": null,
   "id": "07f73ed5-6402-459b-85a3-102ea1062b43",
   "metadata": {},
   "outputs": [],
   "source": [
    "#Define a project --> Destination directory for all results\n",
    "project = \"yolo_dataset/results\"\n",
    "#Define subdirectory for this specific training\n",
    "name = \"5_epochs-\" #if the training again runs again, it creates a directory: 5_epochs-2"
   ]
  },
  {
   "cell_type": "code",
   "execution_count": null,
   "id": "05937020-0b0d-4c40-ace3-758a9483d889",
   "metadata": {},
   "outputs": [],
   "source": [
    "%load_ext tensorboard\n",
    "%tensorboard --logdir \"yolo_dataset/results/5_epochs-\" --port 6006\n"
   ]
  },
  {
   "cell_type": "code",
   "execution_count": null,
   "id": "a69a65b6-eabd-4e83-b4c7-b565cd31da8d",
   "metadata": {},
   "outputs": [],
   "source": [
    "# Train the model\n",
    "results = model.train(data='yolo_dataset/data.yaml',\n",
    "                      project=project,\n",
    "                      name=name,\n",
    "                      epochs=5,\n",
    "                      patience=0, \n",
    "                      batch=4,\n",
    "                      imgsz=512\n",
    "                     )"
   ]
  },
  {
   "cell_type": "code",
   "execution_count": null,
   "id": "b2e51d9b-f944-4d14-aaf3-8e314272cad9",
   "metadata": {},
   "outputs": [],
   "source": [
    "### Prediction (Gradio)\n",
    "import gradio as gr\n",
    "from ultralytics import YOLO\n",
    "\n",
    "model = YOLO(\"yolo_dataset/results/5_epochs-/weights/last.pt\")\n",
    "\n",
    "def predict_image(img, conf_threshold, iou_threshold):\n",
    "    results = model.predict(\n",
    "        source=img,\n",
    "        conf=conf_threshold,\n",
    "        iou=iou_threshold,\n",
    "        show_labels=True,\n",
    "        show_conf=True,\n",
    "    )\n",
    "    return results[0].plot() if results else None\n",
    "\n",
    "iface = gr.Interface(\n",
    "    fn=predict_image,\n",
    "    inputs=[\n",
    "        gr.Image(type=\"pil\", label=\"Upload Image\"),\n",
    "        gr.Slider(minimum=0, maximum=1, value=0.25, label=\"Confidence threshold\"),\n",
    "        gr.Slider(minimum=0, maximum=1, value=0.45, label=\"IoU threshold\"),\n",
    "    ],\n",
    "    outputs=gr.Image(type=\"pil\", label=\"Result\"),\n",
    "    title=\"Gradio YOLO11 Nuclei Segmentation\",\n",
    "    description=\"Upload images of H&E nuclei for YOLO11 detection.\",\n",
    ")\n",
    "iface.launch(share=True)"
   ]
  }
 ],
 "metadata": {
  "kernelspec": {
   "display_name": "Python 3 (ipykernel)",
   "language": "python",
   "name": "python3"
  },
  "language_info": {
   "codemirror_mode": {
    "name": "ipython",
    "version": 3
   },
   "file_extension": ".py",
   "mimetype": "text/x-python",
   "name": "python",
   "nbconvert_exporter": "python",
   "pygments_lexer": "ipython3",
   "version": "3.10.15"
  }
 },
 "nbformat": 4,
 "nbformat_minor": 5
}
